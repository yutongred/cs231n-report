{
 "cells": [
  {
   "cell_type": "markdown",
   "metadata": {
    "tags": [
     "pdf-title"
    ]
   },
   "source": [
    "# Softmax exercise\n",
    "\n",
    "*Complete and hand in this completed worksheet (including its outputs and any supporting code outside of the worksheet) with your assignment submission. For more details see the [assignments page](http://vision.stanford.edu/teaching/cs231n/assignments.html) on the course website.*\n",
    "\n",
    "This exercise is analogous to the SVM exercise. You will:\n",
    "\n",
    "- implement a fully-vectorized **loss function** for the Softmax classifier\n",
    "- implement the fully-vectorized expression for its **analytic gradient**\n",
    "- **check your implementation** with numerical gradient\n",
    "- use a validation set to **tune the learning rate and regularization** strength\n",
    "- **optimize** the loss function with **SGD**\n",
    "- **visualize** the final learned weights\n"
   ]
  },
  {
   "cell_type": "code",
   "execution_count": 24,
   "metadata": {
    "tags": [
     "pdf-ignore"
    ]
   },
   "outputs": [
    {
     "name": "stdout",
     "output_type": "stream",
     "text": [
      "The autoreload extension is already loaded. To reload it, use:\n",
      "  %reload_ext autoreload\n"
     ]
    }
   ],
   "source": [
    "import random\n",
    "import numpy as np\n",
    "from cs231n.data_utils import load_CIFAR10\n",
    "import matplotlib.pyplot as plt\n",
    "\n",
    "%matplotlib inline\n",
    "plt.rcParams['figure.figsize'] = (10.0, 8.0) # set default size of plots\n",
    "plt.rcParams['image.interpolation'] = 'nearest'\n",
    "plt.rcParams['image.cmap'] = 'gray'\n",
    "\n",
    "# for auto-reloading extenrnal modules\n",
    "# see http://stackoverflow.com/questions/1907993/autoreload-of-modules-in-ipython\n",
    "%load_ext autoreload\n",
    "%autoreload 2"
   ]
  },
  {
   "cell_type": "code",
   "execution_count": 25,
   "metadata": {
    "tags": [
     "pdf-ignore"
    ]
   },
   "outputs": [
    {
     "name": "stdout",
     "output_type": "stream",
     "text": [
      "Train data shape:  (49000, 3073)\n",
      "Train labels shape:  (49000,)\n",
      "Validation data shape:  (1000, 3073)\n",
      "Validation labels shape:  (1000,)\n",
      "Test data shape:  (1000, 3073)\n",
      "Test labels shape:  (1000,)\n",
      "dev data shape:  (500, 3073)\n",
      "dev labels shape:  (500,)\n"
     ]
    }
   ],
   "source": [
    "def get_CIFAR10_data(num_training=49000, num_validation=1000, num_test=1000, num_dev=500):\n",
    "    \"\"\"\n",
    "    Load the CIFAR-10 dataset from disk and perform preprocessing to prepare\n",
    "    it for the linear classifier. These are the same steps as we used for the\n",
    "    SVM, but condensed to a single function.  \n",
    "    \"\"\"\n",
    "    # Load the raw CIFAR-10 data\n",
    "    cifar10_dir = 'cs231n/datasets/cifar-10-batches-py'\n",
    "    \n",
    "    # Cleaning up variables to prevent loading data multiple times (which may cause memory issue)\n",
    "    try:\n",
    "       del X_train, y_train\n",
    "       del X_test, y_test\n",
    "       print('Clear previously loaded data.')\n",
    "    except:\n",
    "       pass\n",
    "\n",
    "    X_train, y_train, X_test, y_test = load_CIFAR10(cifar10_dir)\n",
    "    \n",
    "    # subsample the data\n",
    "    mask = list(range(num_training, num_training + num_validation))\n",
    "    X_val = X_train[mask]\n",
    "    y_val = y_train[mask]\n",
    "    mask = list(range(num_training))\n",
    "    X_train = X_train[mask]\n",
    "    y_train = y_train[mask]\n",
    "    mask = list(range(num_test))\n",
    "    X_test = X_test[mask]\n",
    "    y_test = y_test[mask]\n",
    "    mask = np.random.choice(num_training, num_dev, replace=False)\n",
    "    X_dev = X_train[mask]\n",
    "    y_dev = y_train[mask]\n",
    "    \n",
    "    # Preprocessing: reshape the image data into rows\n",
    "    X_train = np.reshape(X_train, (X_train.shape[0], -1))\n",
    "    X_val = np.reshape(X_val, (X_val.shape[0], -1))\n",
    "    X_test = np.reshape(X_test, (X_test.shape[0], -1))\n",
    "    X_dev = np.reshape(X_dev, (X_dev.shape[0], -1))\n",
    "    \n",
    "    # Normalize the data: subtract the mean image\n",
    "    mean_image = np.mean(X_train, axis = 0)\n",
    "    X_train -= mean_image\n",
    "    X_val -= mean_image\n",
    "    X_test -= mean_image\n",
    "    X_dev -= mean_image\n",
    "    \n",
    "    # add bias dimension and transform into columns\n",
    "    X_train = np.hstack([X_train, np.ones((X_train.shape[0], 1))])\n",
    "    X_val = np.hstack([X_val, np.ones((X_val.shape[0], 1))])\n",
    "    X_test = np.hstack([X_test, np.ones((X_test.shape[0], 1))])\n",
    "    X_dev = np.hstack([X_dev, np.ones((X_dev.shape[0], 1))])\n",
    "    \n",
    "    return X_train, y_train, X_val, y_val, X_test, y_test, X_dev, y_dev\n",
    "\n",
    "\n",
    "# Invoke the above function to get our data.\n",
    "X_train, y_train, X_val, y_val, X_test, y_test, X_dev, y_dev = get_CIFAR10_data()\n",
    "print('Train data shape: ', X_train.shape)\n",
    "print('Train labels shape: ', y_train.shape)\n",
    "print('Validation data shape: ', X_val.shape)\n",
    "print('Validation labels shape: ', y_val.shape)\n",
    "print('Test data shape: ', X_test.shape)\n",
    "print('Test labels shape: ', y_test.shape)\n",
    "print('dev data shape: ', X_dev.shape)\n",
    "print('dev labels shape: ', y_dev.shape)"
   ]
  },
  {
   "cell_type": "markdown",
   "metadata": {},
   "source": [
    "## Softmax Classifier\n",
    "\n",
    "Your code for this section will all be written inside **cs231n/classifiers/softmax.py**. \n"
   ]
  },
  {
   "cell_type": "code",
   "execution_count": 26,
   "metadata": {},
   "outputs": [
    {
     "name": "stdout",
     "output_type": "stream",
     "text": [
      "loss: 2.354161\n",
      "sanity check: 2.302585\n"
     ]
    }
   ],
   "source": [
    "# First implement the naive softmax loss function with nested loops.\n",
    "# Open the file cs231n/classifiers/softmax.py and implement the\n",
    "# softmax_loss_naive function.\n",
    "\n",
    "from cs231n.classifiers.softmax import softmax_loss_naive\n",
    "import time\n",
    "\n",
    "# Generate a random softmax weight matrix and use it to compute the loss.\n",
    "W = np.random.randn(3073, 10) * 0.0001\n",
    "loss, grad = softmax_loss_naive(W, X_dev, y_dev, 0.0)\n",
    "\n",
    "# As a rough sanity check, our loss should be something close to -log(0.1).\n",
    "print('loss: %f' % loss)\n",
    "print('sanity check: %f' % (-np.log(0.1)))"
   ]
  },
  {
   "cell_type": "markdown",
   "metadata": {
    "tags": [
     "pdf-inline"
    ]
   },
   "source": [
    "**Inline Question 1**\n",
    "\n",
    "Why do we expect our loss to be close to -log(0.1)? Explain briefly.**\n",
    "\n",
    "$\\color{blue}{\\textit Your Answer:}$ *Fill this in* \n",
    "\n",
    "\n"
   ]
  },
  {
   "cell_type": "code",
   "execution_count": 27,
   "metadata": {},
   "outputs": [
    {
     "name": "stdout",
     "output_type": "stream",
     "text": [
      "numerical: 0.184443 analytic: 0.184443, relative error: 3.473706e-07\n",
      "numerical: 1.831235 analytic: 1.831235, relative error: 4.981364e-11\n",
      "numerical: -1.852418 analytic: -1.852418, relative error: 1.327535e-08\n",
      "numerical: 2.486494 analytic: 2.486494, relative error: 1.769583e-08\n",
      "numerical: -1.478472 analytic: -1.478472, relative error: 8.323270e-09\n",
      "numerical: 0.850800 analytic: 0.850801, relative error: 7.478137e-08\n",
      "numerical: -1.284161 analytic: -1.284161, relative error: 1.646885e-08\n",
      "numerical: 0.331266 analytic: 0.331265, relative error: 1.561304e-07\n",
      "numerical: -0.136064 analytic: -0.136064, relative error: 4.137300e-07\n",
      "numerical: 1.515451 analytic: 1.515451, relative error: 2.086793e-08\n",
      "numerical: -1.737946 analytic: -1.737946, relative error: 2.786286e-08\n",
      "numerical: 1.659618 analytic: 1.659618, relative error: 2.708014e-08\n",
      "numerical: -0.569290 analytic: -0.569290, relative error: 6.841097e-08\n",
      "numerical: -2.939791 analytic: -2.939791, relative error: 2.634691e-08\n",
      "numerical: 2.747219 analytic: 2.747219, relative error: 2.602460e-08\n",
      "numerical: 0.612177 analytic: 0.612177, relative error: 3.291020e-08\n",
      "numerical: -0.817035 analytic: -0.817035, relative error: 5.993471e-08\n",
      "numerical: -2.601372 analytic: -2.601372, relative error: 1.314206e-08\n",
      "numerical: 1.624059 analytic: 1.624059, relative error: 9.395366e-09\n",
      "numerical: -0.712793 analytic: -0.712793, relative error: 1.044741e-07\n"
     ]
    }
   ],
   "source": [
    "# Complete the implementation of softmax_loss_naive and implement a (naive)\n",
    "# version of the gradient that uses nested loops.\n",
    "loss, grad = softmax_loss_naive(W, X_dev, y_dev, 0.0)\n",
    "\n",
    "# As we did for the SVM, use numeric gradient checking as a debugging tool.\n",
    "# The numeric gradient should be close to the analytic gradient.\n",
    "from cs231n.gradient_check import grad_check_sparse\n",
    "f = lambda w: softmax_loss_naive(w, X_dev, y_dev, 0.0)[0]\n",
    "grad_numerical = grad_check_sparse(f, W, grad, 10)\n",
    "\n",
    "# similar to SVM case, do another gradient check with regularization\n",
    "loss, grad = softmax_loss_naive(W, X_dev, y_dev, 5e1)\n",
    "f = lambda w: softmax_loss_naive(w, X_dev, y_dev, 5e1)[0]\n",
    "grad_numerical = grad_check_sparse(f, W, grad, 10)"
   ]
  },
  {
   "cell_type": "code",
   "execution_count": 28,
   "metadata": {},
   "outputs": [
    {
     "name": "stdout",
     "output_type": "stream",
     "text": [
      "naive loss: 2.354161e+00 computed in 0.182512s\n",
      "vectorized loss: 2.354161e+00 computed in 0.136400s\n",
      "Loss difference: 0.000000\n",
      "Gradient difference: 0.000000\n"
     ]
    }
   ],
   "source": [
    "# Now that we have a naive implementation of the softmax loss function and its gradient,\n",
    "# implement a vectorized version in softmax_loss_vectorized.\n",
    "# The two versions should compute the same results, but the vectorized version should be\n",
    "# much faster.\n",
    "tic = time.time()\n",
    "loss_naive, grad_naive = softmax_loss_naive(W, X_dev, y_dev, 0.000005)\n",
    "toc = time.time()\n",
    "print('naive loss: %e computed in %fs' % (loss_naive, toc - tic))\n",
    "\n",
    "from cs231n.classifiers.softmax import softmax_loss_vectorized\n",
    "tic = time.time()\n",
    "loss_vectorized, grad_vectorized = softmax_loss_vectorized(W, X_dev, y_dev, 0.000005)\n",
    "toc = time.time()\n",
    "print('vectorized loss: %e computed in %fs' % (loss_vectorized, toc - tic))\n",
    "\n",
    "# As we did for the SVM, we use the Frobenius norm to compare the two versions\n",
    "# of the gradient.\n",
    "grad_difference = np.linalg.norm(grad_naive - grad_vectorized, ord='fro')\n",
    "print('Loss difference: %f' % np.abs(loss_naive - loss_vectorized))\n",
    "print('Gradient difference: %f' % grad_difference)"
   ]
  },
  {
   "cell_type": "code",
   "execution_count": 29,
   "metadata": {
    "tags": [
     "code"
    ]
   },
   "outputs": [
    {
     "name": "stdout",
     "output_type": "stream",
     "text": [
      "iteration 0 / 1500: loss 392.912254\n",
      "iteration 100 / 1500: loss 237.325332\n",
      "iteration 200 / 1500: loss 144.317347\n",
      "iteration 300 / 1500: loss 87.896099\n",
      "iteration 400 / 1500: loss 53.930493\n",
      "iteration 500 / 1500: loss 33.471610\n",
      "iteration 600 / 1500: loss 21.089493\n",
      "iteration 700 / 1500: loss 13.549132\n",
      "iteration 800 / 1500: loss 8.945660\n",
      "iteration 900 / 1500: loss 6.221385\n",
      "iteration 1000 / 1500: loss 4.515691\n",
      "iteration 1100 / 1500: loss 3.584427\n",
      "iteration 1200 / 1500: loss 2.970303\n",
      "iteration 1300 / 1500: loss 2.627142\n",
      "iteration 1400 / 1500: loss 2.347368\n",
      "iteration 0 / 1500: loss 517.794460\n",
      "iteration 100 / 1500: loss 264.930601\n",
      "iteration 200 / 1500: loss 136.544370\n",
      "iteration 300 / 1500: loss 70.801208\n",
      "iteration 400 / 1500: loss 37.230032\n",
      "iteration 500 / 1500: loss 20.031055\n",
      "iteration 600 / 1500: loss 11.303378\n",
      "iteration 700 / 1500: loss 6.728814\n",
      "iteration 800 / 1500: loss 4.528961\n",
      "iteration 900 / 1500: loss 3.321173\n",
      "iteration 1000 / 1500: loss 2.688948\n",
      "iteration 1100 / 1500: loss 2.402250\n",
      "iteration 1200 / 1500: loss 2.225999\n",
      "iteration 1300 / 1500: loss 2.225706\n",
      "iteration 1400 / 1500: loss 2.117475\n",
      "iteration 0 / 1500: loss 646.417647\n",
      "iteration 100 / 1500: loss 280.014041\n",
      "iteration 200 / 1500: loss 122.343006\n",
      "iteration 300 / 1500: loss 54.101836\n",
      "iteration 400 / 1500: loss 24.479956\n",
      "iteration 500 / 1500: loss 11.892153\n",
      "iteration 600 / 1500: loss 6.257702\n",
      "iteration 700 / 1500: loss 3.883412\n",
      "iteration 800 / 1500: loss 2.794444\n",
      "iteration 900 / 1500: loss 2.453691\n",
      "iteration 1000 / 1500: loss 2.277589\n",
      "iteration 1100 / 1500: loss 2.091547\n",
      "iteration 1200 / 1500: loss 2.108257\n",
      "iteration 1300 / 1500: loss 2.054062\n",
      "iteration 1400 / 1500: loss 2.036277\n",
      "iteration 0 / 1500: loss 777.671398\n",
      "iteration 100 / 1500: loss 285.582429\n",
      "iteration 200 / 1500: loss 105.851312\n",
      "iteration 300 / 1500: loss 40.055018\n",
      "iteration 400 / 1500: loss 15.939789\n",
      "iteration 500 / 1500: loss 7.214469\n",
      "iteration 600 / 1500: loss 3.933462\n",
      "iteration 700 / 1500: loss 2.827390\n",
      "iteration 800 / 1500: loss 2.331060\n",
      "iteration 900 / 1500: loss 2.121716\n",
      "iteration 1000 / 1500: loss 2.151680\n",
      "iteration 1100 / 1500: loss 2.095832\n",
      "iteration 1200 / 1500: loss 2.113872\n",
      "iteration 1300 / 1500: loss 2.059718\n",
      "iteration 1400 / 1500: loss 2.045769\n",
      "iteration 0 / 1500: loss 387.122817\n",
      "iteration 100 / 1500: loss 86.562707\n",
      "iteration 200 / 1500: loss 20.615833\n",
      "iteration 300 / 1500: loss 6.170668\n",
      "iteration 400 / 1500: loss 2.930706\n",
      "iteration 500 / 1500: loss 2.207231\n",
      "iteration 600 / 1500: loss 2.071894\n",
      "iteration 700 / 1500: loss 2.061008\n",
      "iteration 800 / 1500: loss 2.038431\n",
      "iteration 900 / 1500: loss 2.008387\n",
      "iteration 1000 / 1500: loss 2.033039\n",
      "iteration 1100 / 1500: loss 2.014223\n",
      "iteration 1200 / 1500: loss 2.024831\n",
      "iteration 1300 / 1500: loss 2.085858\n",
      "iteration 1400 / 1500: loss 2.046383\n",
      "iteration 0 / 1500: loss 517.281102\n",
      "iteration 100 / 1500: loss 70.380518\n",
      "iteration 200 / 1500: loss 11.055584\n",
      "iteration 300 / 1500: loss 3.288430\n",
      "iteration 400 / 1500: loss 2.199298\n",
      "iteration 500 / 1500: loss 1.994163\n",
      "iteration 600 / 1500: loss 2.001747\n",
      "iteration 700 / 1500: loss 2.047500\n",
      "iteration 800 / 1500: loss 2.030609\n",
      "iteration 900 / 1500: loss 1.975835\n",
      "iteration 1000 / 1500: loss 2.048111\n",
      "iteration 1100 / 1500: loss 2.173484\n",
      "iteration 1200 / 1500: loss 2.012144\n",
      "iteration 1300 / 1500: loss 2.056667\n",
      "iteration 1400 / 1500: loss 2.055091\n",
      "iteration 0 / 1500: loss 638.424361\n",
      "iteration 100 / 1500: loss 52.864515\n",
      "iteration 200 / 1500: loss 6.110321\n",
      "iteration 300 / 1500: loss 2.365010\n",
      "iteration 400 / 1500: loss 2.096072\n",
      "iteration 500 / 1500: loss 2.040125\n",
      "iteration 600 / 1500: loss 1.999148\n",
      "iteration 700 / 1500: loss 2.096630\n",
      "iteration 800 / 1500: loss 2.038613\n",
      "iteration 900 / 1500: loss 2.039721\n",
      "iteration 1000 / 1500: loss 2.020527\n",
      "iteration 1100 / 1500: loss 2.015323\n",
      "iteration 1200 / 1500: loss 2.043669\n",
      "iteration 1300 / 1500: loss 2.082635\n",
      "iteration 1400 / 1500: loss 2.066116\n",
      "iteration 0 / 1500: loss 779.375604\n",
      "iteration 100 / 1500: loss 39.634787\n",
      "iteration 200 / 1500: loss 3.875020\n",
      "iteration 300 / 1500: loss 2.240278\n",
      "iteration 400 / 1500: loss 2.109636\n",
      "iteration 500 / 1500: loss 2.066710\n",
      "iteration 600 / 1500: loss 2.087281\n",
      "iteration 700 / 1500: loss 2.079353\n",
      "iteration 800 / 1500: loss 2.122471\n",
      "iteration 900 / 1500: loss 2.065773\n",
      "iteration 1000 / 1500: loss 2.125366\n",
      "iteration 1100 / 1500: loss 2.083875\n",
      "iteration 1200 / 1500: loss 2.094432\n",
      "iteration 1300 / 1500: loss 2.089758\n",
      "iteration 1400 / 1500: loss 2.031838\n",
      "iteration 0 / 1500: loss 389.829271\n",
      "iteration 100 / 1500: loss 32.858801\n",
      "iteration 200 / 1500: loss 4.501153\n",
      "iteration 300 / 1500: loss 2.180068\n",
      "iteration 400 / 1500: loss 1.995872\n",
      "iteration 500 / 1500: loss 2.015943\n",
      "iteration 600 / 1500: loss 1.985578\n",
      "iteration 700 / 1500: loss 2.036396\n",
      "iteration 800 / 1500: loss 1.986518\n",
      "iteration 900 / 1500: loss 2.052918\n",
      "iteration 1000 / 1500: loss 2.051985\n",
      "iteration 1100 / 1500: loss 2.039462\n",
      "iteration 1200 / 1500: loss 1.984117\n",
      "iteration 1300 / 1500: loss 2.067047\n",
      "iteration 1400 / 1500: loss 2.011532\n",
      "iteration 0 / 1500: loss 510.449550\n",
      "iteration 100 / 1500: loss 19.371587\n",
      "iteration 200 / 1500: loss 2.684058\n",
      "iteration 300 / 1500: loss 2.090252\n",
      "iteration 400 / 1500: loss 2.042764\n",
      "iteration 500 / 1500: loss 2.040368\n",
      "iteration 600 / 1500: loss 2.064752\n",
      "iteration 700 / 1500: loss 2.061322\n",
      "iteration 800 / 1500: loss 2.068702\n",
      "iteration 900 / 1500: loss 2.095406\n",
      "iteration 1000 / 1500: loss 2.061089\n",
      "iteration 1100 / 1500: loss 2.043802\n",
      "iteration 1200 / 1500: loss 2.065681\n",
      "iteration 1300 / 1500: loss 2.083267\n",
      "iteration 1400 / 1500: loss 2.115487\n",
      "iteration 0 / 1500: loss 649.916850\n",
      "iteration 100 / 1500: loss 11.471282\n",
      "iteration 200 / 1500: loss 2.184980\n",
      "iteration 300 / 1500: loss 2.036786\n",
      "iteration 400 / 1500: loss 2.124107\n",
      "iteration 500 / 1500: loss 2.123108\n",
      "iteration 600 / 1500: loss 2.048754\n",
      "iteration 700 / 1500: loss 2.043327\n",
      "iteration 800 / 1500: loss 2.082266\n",
      "iteration 900 / 1500: loss 2.076899\n",
      "iteration 1000 / 1500: loss 2.065274\n",
      "iteration 1100 / 1500: loss 2.052680\n",
      "iteration 1200 / 1500: loss 2.113135\n",
      "iteration 1300 / 1500: loss 2.045728\n",
      "iteration 1400 / 1500: loss 2.043579\n",
      "iteration 0 / 1500: loss 774.277413\n",
      "iteration 100 / 1500: loss 6.880637\n",
      "iteration 200 / 1500: loss 2.090785\n",
      "iteration 300 / 1500: loss 2.057688\n",
      "iteration 400 / 1500: loss 2.106350\n",
      "iteration 500 / 1500: loss 2.075619\n",
      "iteration 600 / 1500: loss 2.088589\n",
      "iteration 700 / 1500: loss 2.149941\n",
      "iteration 800 / 1500: loss 2.138548\n",
      "iteration 900 / 1500: loss 2.101061\n",
      "iteration 1000 / 1500: loss 2.110059\n",
      "iteration 1100 / 1500: loss 2.088655\n",
      "iteration 1200 / 1500: loss 2.113353\n",
      "iteration 1300 / 1500: loss 2.087284\n",
      "iteration 1400 / 1500: loss 2.125165\n",
      "lr 1.000000e-07 reg 2.500000e+04 train accuracy: 0.349837 val accuracy: 0.369000\n",
      "lr 1.000000e-07 reg 3.333333e+04 train accuracy: 0.337286 val accuracy: 0.343000\n",
      "lr 1.000000e-07 reg 4.166667e+04 train accuracy: 0.332796 val accuracy: 0.339000\n",
      "lr 1.000000e-07 reg 5.000000e+04 train accuracy: 0.325939 val accuracy: 0.350000\n",
      "lr 3.000000e-07 reg 2.500000e+04 train accuracy: 0.347000 val accuracy: 0.357000\n",
      "lr 3.000000e-07 reg 3.333333e+04 train accuracy: 0.340694 val accuracy: 0.351000\n",
      "lr 3.000000e-07 reg 4.166667e+04 train accuracy: 0.335653 val accuracy: 0.345000\n",
      "lr 3.000000e-07 reg 5.000000e+04 train accuracy: 0.324816 val accuracy: 0.338000\n",
      "lr 5.000000e-07 reg 2.500000e+04 train accuracy: 0.342571 val accuracy: 0.355000\n",
      "lr 5.000000e-07 reg 3.333333e+04 train accuracy: 0.342980 val accuracy: 0.355000\n",
      "lr 5.000000e-07 reg 4.166667e+04 train accuracy: 0.335980 val accuracy: 0.352000\n",
      "lr 5.000000e-07 reg 5.000000e+04 train accuracy: 0.323633 val accuracy: 0.348000\n",
      "best validation accuracy achieved during cross-validation: 0.369000\n"
     ]
    }
   ],
   "source": [
    "# Use the validation set to tune hyperparameters (regularization strength and\n",
    "# learning rate). You should experiment with different ranges for the learning\n",
    "# rates and regularization strengths; if you are careful you should be able to\n",
    "# get a classification accuracy of over 0.35 on the validation set.\n",
    "from cs231n.classifiers import Softmax\n",
    "results = {}\n",
    "best_val = -1\n",
    "best_softmax = None\n",
    "learning_rates = np.linspace(1e-7, 5e-7,3)\n",
    "regularization_strengths = np.linspace(2.5e4, 5e4,4)\n",
    "\n",
    "################################################################################\n",
    "# TODO:                                                                        #\n",
    "# Use the validation set to set the learning rate and regularization strength. #\n",
    "# This should be identical to the validation that you did for the SVM; save    #\n",
    "# the best trained softmax classifer in best_softmax.                          #\n",
    "################################################################################\n",
    "# *****START OF YOUR CODE (DO NOT DELETE/MODIFY THIS LINE)*****\n",
    "\n",
    "for rate in learning_rates:\n",
    "    for reg in regularization_strengths:\n",
    "        soft=Softmax()\n",
    "        soft.train(X_train, y_train, learning_rate=rate, reg=reg,num_iters=1500, verbose=True)\n",
    "        y_trainpre=soft.predict(X_train)\n",
    "        y_valpre=soft.predict(X_val)\n",
    "        train_acc=np.mean(y_trainpre==y_train)#统计正确率\n",
    "        val_acc=np.mean(y_valpre==y_val)\n",
    "        if val_acc>best_val:\n",
    "            best_val=val_acc\n",
    "            best_softmax=soft\n",
    "        results[(rate,reg)]=[train_acc,val_acc]\n",
    "\n",
    "# *****END OF YOUR CODE (DO NOT DELETE/MODIFY THIS LINE)*****\n",
    "    \n",
    "# Print out results.\n",
    "for lr, reg in sorted(results):\n",
    "    train_accuracy, val_accuracy = results[(lr, reg)]\n",
    "    print('lr %e reg %e train accuracy: %f val accuracy: %f' % (\n",
    "                lr, reg, train_accuracy, val_accuracy))\n",
    "    \n",
    "print('best validation accuracy achieved during cross-validation: %f' % best_val)"
   ]
  },
  {
   "cell_type": "code",
   "execution_count": 32,
   "metadata": {},
   "outputs": [
    {
     "name": "stdout",
     "output_type": "stream",
     "text": [
      "softmax on raw pixels final test set accuracy: 0.361000\n"
     ]
    }
   ],
   "source": [
    "# evaluate on test set\n",
    "# Evaluate the best softmax on test set\n",
    "y_test_pred = best_softmax.predict(X_test)\n",
    "test_accuracy = np.mean(y_test == y_test_pred)\n",
    "print('softmax on raw pixels final test set accuracy: %f' % (test_accuracy, ))"
   ]
  },
  {
   "cell_type": "markdown",
   "metadata": {
    "tags": [
     "pdf-inline"
    ]
   },
   "source": [
    "**Inline Question 2** - *True or False*\n",
    "\n",
    "Suppose the overall training loss is defined as the sum of the per-datapoint loss over all training examples. It is possible to add a new datapoint to a training set that would leave the SVM loss unchanged, but this is not the case with the Softmax classifier loss.\n",
    "\n",
    "$\\color{blue}{\\textit Your Answer:}$\n",
    "\n",
    "\n",
    "$\\color{blue}{\\textit Your Explanation:}$\n",
    "\n"
   ]
  },
  {
   "cell_type": "code",
   "execution_count": 31,
   "metadata": {},
   "outputs": [
    {
     "data": {
      "image/png": "[encoded data removed]",
      "text/plain": [
       "<Figure size 720x576 with 10 Axes>"
      ]
     },
     "metadata": {
      "needs_background": "light"
     },
     "output_type": "display_data"
    }
   ],
   "source": [
    "# Visualize the learned weights for each class\n",
    "w = best_softmax.W[:-1,:] # strip out the bias\n",
    "w = w.reshape(32, 32, 3, 10)\n",
    "\n",
    "w_min, w_max = np.min(w), np.max(w)\n",
    "\n",
    "classes = ['plane', 'car', 'bird', 'cat', 'deer', 'dog', 'frog', 'horse', 'ship', 'truck']\n",
    "for i in range(10):\n",
    "    plt.subplot(2, 5, i + 1)\n",
    "    \n",
    "    # Rescale the weights to be between 0 and 255\n",
    "    wimg = 255.0 * (w[:, :, :, i].squeeze() - w_min) / (w_max - w_min)\n",
    "    plt.imshow(wimg.astype('uint8'))\n",
    "    plt.axis('off')\n",
    "    plt.title(classes[i])"
   ]
  },
  {
   "cell_type": "code",
   "execution_count": null,
   "metadata": {},
   "outputs": [],
   "source": []
  }
 ],
 "metadata": {
  "kernelspec": {
   "display_name": "Python 3",
   "language": "python",
   "name": "python3"
  },
  "language_info": {
   "codemirror_mode": {
    "name": "ipython",
    "version": 3
   },
   "file_extension": ".py",
   "mimetype": "text/x-python",
   "name": "python",
   "nbconvert_exporter": "python",
   "pygments_lexer": "ipython3",
   "version": "3.7.4"
  }
 },
 "nbformat": 4,
 "nbformat_minor": 1
}
